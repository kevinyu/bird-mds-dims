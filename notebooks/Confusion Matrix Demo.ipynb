{
 "cells": [
  {
   "cell_type": "markdown",
   "metadata": {},
   "source": [
    "# Confusion Matrix Demo\n",
    "\n",
    "Demonstrating decoding functions with confusion matrices"
   ]
  },
  {
   "cell_type": "code",
   "execution_count": 1,
   "metadata": {
    "collapsed": false
   },
   "outputs": [
    {
     "name": "stderr",
     "output_type": "stream",
     "text": [
      "/Users/kevinyu/Projects/mds-bird/env27/lib/python2.7/site-packages/matplotlib/font_manager.py:273: UserWarning: Matplotlib is building the font cache using fc-list. This may take a moment.\n",
      "  warnings.warn('Matplotlib is building the font cache using fc-list. This may take a moment.')\n"
     ]
    }
   ],
   "source": [
    "import os\n",
    "\n",
    "import numpy as np\n",
    "import matplotlib.pyplot as plt\n",
    "\n",
    "import config\n",
    "from confusion import ConfusionMatrix\n",
    "from load import DataExplorer\n",
    "from process_spikes import bin_spikes, conv, exponential_convolver\n",
    "from template import (\n",
    "    compute_euclidian_distances_to_all_templates,\n",
    "    compute_nearest_template_with_ties,\n",
    "    template_selectors,\n",
    ")\n",
    "from visualize import plot_confusion_matrix\n",
    "\n",
    "%load_ext autoreload\n",
    "%autoreload 2"
   ]
  },
  {
   "cell_type": "code",
   "execution_count": 2,
   "metadata": {
    "collapsed": true
   },
   "outputs": [],
   "source": [
    "BIRD = \"GreBlu9508M\"\n",
    "SITE = 2\n",
    "UNIT = (21, 1)"
   ]
  },
  {
   "cell_type": "code",
   "execution_count": 3,
   "metadata": {
    "collapsed": false
   },
   "outputs": [],
   "source": [
    "dat = DataExplorer(\n",
    "    config.DATADIR,\n",
    "    BIRD,\n",
    "    SITE,\n",
    "    exclude_noise=True,\n",
    "    exclude_song=True)"
   ]
  },
  {
   "cell_type": "markdown",
   "metadata": {},
   "source": [
    "### Spike train convolution\n",
    "\n",
    "We first convert spike times into a binary spike train, each bin representing 1ms.\n",
    "\n",
    "We then convolve the binary spike train with an exponential to produce an estimate of the psth."
   ]
  },
  {
   "cell_type": "code",
   "execution_count": 4,
   "metadata": {
    "collapsed": false
   },
   "outputs": [],
   "source": [
    "table, spike_times = dat.load_table(filter_unit=UNIT, load_spike_times=True)\n",
    "_, spikes = bin_spikes(spike_times, min_time=config.MIN_TIME, max_time=config.MAX_TIME)\n",
    "psths = conv(spikes, exponential_convolver, config.WIDTH)"
   ]
  },
  {
   "cell_type": "markdown",
   "metadata": {},
   "source": [
    "### Template decoding\n",
    "\n",
    "For each datapoint, we compute templates (mean response per stimulus, excluding the current datapoint each time) and distances to all templates.\n",
    "\n",
    "Our predicted stimulus is the template with the shortest distance."
   ]
  },
  {
   "cell_type": "code",
   "execution_count": 5,
   "metadata": {
    "collapsed": false
   },
   "outputs": [],
   "source": [
    "selectors, stims = template_selectors(table)\n",
    "distances = compute_euclidian_distances_to_all_templates(psths, selectors)\n",
    "predicted = compute_nearest_template_with_ties(distances, stims)"
   ]
  },
  {
   "cell_type": "markdown",
   "metadata": {},
   "source": [
    "### Confusion Matrix\n",
    "\n",
    "Note: I think I got all my indices mixed up here...\n",
    "\n",
    "The confusion matrix $C$ represents the relationship between predictions $S'$ and true labels $S$. When the sum of $C$ is normalized to 1, each element $c_{ij}$ represents the joint probability of predicting $s'_i$ and being presented stimulus $s_j$.\n",
    "\n",
    "Because there are a large number of stimuli, and a few number of trials per stimuli, the mutual information calculated in this way is destined to overestimate the mutual information (see Panzieri)"
   ]
  },
  {
   "cell_type": "code",
   "execution_count": 6,
   "metadata": {
    "collapsed": true
   },
   "outputs": [],
   "source": [
    "conf = ConfusionMatrix(table[\"stim\"], predicted, sorter=dat.stim_sorter(table))\n",
    "labels = [\"{} {}\".format(*x) for x in dat.stim_types()]"
   ]
  },
  {
   "cell_type": "code",
   "execution_count": 7,
   "metadata": {
    "collapsed": false
   },
   "outputs": [
    {
     "data": {
      "image/png": "[encoded data removed]",
      "text/plain": [
       "<matplotlib.figure.Figure at 0x10f145e50>"
      ]
     },
     "metadata": {},
     "output_type": "display_data"
    }
   ],
   "source": [
    "plot_confusion_matrix(conf, table, labels)\n",
    "plt.clim(0, 0.01)\n",
    "plt.colorbar()\n",
    "plt.show()"
   ]
  },
  {
   "cell_type": "markdown",
   "metadata": {},
   "source": [
    "### Mutual Information\n",
    "\n",
    "The mutual information of the confusion matrix $C$, whose elements $c_{ij}$ represent the joint probability $p(s'_i, s_j)$, is the following:\n",
    "\n",
    "$I(S'|S) = \\sum\\limits_i \\sum\\limits_j c_{ij} \\log_2\\frac{c_{ij}}{p(s'_i)p(s_j)}$\n",
    "\n",
    "where \n",
    "\n",
    "$p(s'_i) = \\sum\\limits_j {c_{ij}}$\n",
    "\n",
    "$p(s_i) = \\sum\\limits_j {c_{ji}}$"
   ]
  },
  {
   "cell_type": "code",
   "execution_count": 8,
   "metadata": {
    "collapsed": false
   },
   "outputs": [
    {
     "name": "stdout",
     "output_type": "stream",
     "text": [
      "4.01 / 6.54 bits\n"
     ]
    }
   ],
   "source": [
    "print \"{:.2f} / {:.2f} bits\".format(conf.information(), np.log2(len(stims)))"
   ]
  },
  {
   "cell_type": "markdown",
   "metadata": {},
   "source": [
    "### By stimulus category\n",
    "\n",
    "Finally, we will build a confusion matrix using stimulus category rather than stimulus id. This should help with sampling bias becuase there are several more datapoints per stimulus category, but the overall information possible is still low."
   ]
  },
  {
   "cell_type": "code",
   "execution_count": 9,
   "metadata": {
    "collapsed": true
   },
   "outputs": [],
   "source": [
    "# Now try it by stim type\n",
    "selectors, stim_types = template_selectors(table, key=\"stim_type\")\n",
    "distances = compute_euclidian_distances_to_all_templates(psths, selectors)\n",
    "predicted = compute_nearest_template_with_ties(distances, stim_types)"
   ]
  },
  {
   "cell_type": "code",
   "execution_count": 10,
   "metadata": {
    "collapsed": true
   },
   "outputs": [],
   "source": [
    "conf = ConfusionMatrix(table[\"stim_type\"], predicted)"
   ]
  },
  {
   "cell_type": "code",
   "execution_count": 11,
   "metadata": {
    "collapsed": false
   },
   "outputs": [
    {
     "data": {
      "image/png": "[encoded data removed]",
      "text/plain": [
       "<matplotlib.figure.Figure at 0x10f022f90>"
      ]
     },
     "metadata": {},
     "output_type": "display_data"
    }
   ],
   "source": [
    "plot_confusion_matrix(conf)\n",
    "plt.clim(0, 0.1)\n",
    "plt.colorbar()\n",
    "plt.show()"
   ]
  },
  {
   "cell_type": "code",
   "execution_count": 79,
   "metadata": {
    "collapsed": false
   },
   "outputs": [
    {
     "name": "stdout",
     "output_type": "stream",
     "text": [
      "0.12 / 3.00 bits\n"
     ]
    }
   ],
   "source": [
    "print \"{:.2f} / {:.2f} bits\".format(conf.information(), np.log2(len(stim_types)))"
   ]
  },
  {
   "cell_type": "code",
   "execution_count": null,
   "metadata": {
    "collapsed": true
   },
   "outputs": [],
   "source": []
  },
  {
   "cell_type": "code",
   "execution_count": null,
   "metadata": {
    "collapsed": true
   },
   "outputs": [],
   "source": []
  }
 ],
 "metadata": {
  "kernelspec": {
   "display_name": "Python 2",
   "language": "python",
   "name": "python2"
  },
  "language_info": {
   "codemirror_mode": {
    "name": "ipython",
    "version": 2
   },
   "file_extension": ".py",
   "mimetype": "text/x-python",
   "name": "python",
   "nbconvert_exporter": "python",
   "pygments_lexer": "ipython2",
   "version": "2.7.12"
  }
 },
 "nbformat": 4,
 "nbformat_minor": 2
}
