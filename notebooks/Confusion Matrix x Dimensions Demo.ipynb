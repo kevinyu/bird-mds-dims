{
 "cells": [
  {
   "cell_type": "markdown",
   "metadata": {},
   "source": [
    "# Comparing Mutual Information over Dimensionality\n",
    "\n",
    "In this notebook, I'll compare mutual information estimates while varying degrees of dimensionality reduction. \n",
    "\n",
    "I'll only be using PCA in this notebook since its faster than MDS."
   ]
  },
  {
   "cell_type": "code",
   "execution_count": 22,
   "metadata": {
    "collapsed": false
   },
   "outputs": [
    {
     "name": "stdout",
     "output_type": "stream",
     "text": [
      "The autoreload extension is already loaded. To reload it, use:\n",
      "  %reload_ext autoreload\n"
     ]
    }
   ],
   "source": [
    "import os\n",
    "\n",
    "import numpy as np\n",
    "import matplotlib.pyplot as plt\n",
    "import sklearn.decomposition\n",
    "\n",
    "import config\n",
    "from confusion import ConfusionMatrix\n",
    "from load import DataExplorer\n",
    "from mutual_information import monte_carlo_mutual_information\n",
    "from process_spikes import bin_spikes, conv, exponential_convolver\n",
    "from fit_gaussians import fit_gaussians\n",
    "from template import (\n",
    "    compute_euclidian_distances_to_all_templates,\n",
    "    compute_nearest_template_with_ties,\n",
    "    template_selectors,\n",
    ")\n",
    "\n",
    "%load_ext autoreload\n",
    "%autoreload 2"
   ]
  },
  {
   "cell_type": "code",
   "execution_count": 2,
   "metadata": {
    "collapsed": true
   },
   "outputs": [],
   "source": [
    "BIRD = \"GreBlu9508M\"\n",
    "SITE = 2\n",
    "UNIT = (21, 1)"
   ]
  },
  {
   "cell_type": "code",
   "execution_count": 3,
   "metadata": {
    "collapsed": true
   },
   "outputs": [],
   "source": [
    "dat = DataExplorer(\n",
    "    config.DATADIR,\n",
    "    BIRD,\n",
    "    SITE,\n",
    "    exclude_noise=True,\n",
    "    exclude_song=True)"
   ]
  },
  {
   "cell_type": "code",
   "execution_count": 5,
   "metadata": {
    "collapsed": true
   },
   "outputs": [],
   "source": [
    "table, spike_times = dat.load_table(filter_unit=UNIT, load_spike_times=True)\n",
    "_, spikes = bin_spikes(spike_times, min_time=config.MIN_TIME, max_time=config.MAX_TIME)\n",
    "psths = conv(spikes, exponential_convolver, config.WIDTH)"
   ]
  },
  {
   "cell_type": "markdown",
   "metadata": {},
   "source": [
    "### First, using decoding technique\n",
    "\n",
    "Note: There are two parts of this that take a bit. The first is the dimensionality reduction. PCA is pretty fast, but MDS can take a while (and a lot of memory) if embedding into a high number of dimensions). Also, the decoding process (computing distances to templates) can take a while as well. It may be useful to pre-compute and save the reduced arrays as well as the confusion matrices so that you don't need to wait every time.\n",
    "\n",
    "See the Confusion Matrix Demo notebook for details on this procedure."
   ]
  },
  {
   "cell_type": "code",
   "execution_count": 13,
   "metadata": {
    "collapsed": true
   },
   "outputs": [],
   "source": [
    "DIMS = [1, 2, 3, 4, 6, 8, 10, 12, 14, 16, 24, 32]"
   ]
  },
  {
   "cell_type": "code",
   "execution_count": 16,
   "metadata": {
    "collapsed": false
   },
   "outputs": [
    {
     "name": "stdout",
     "output_type": "stream",
     "text": [
      "finished 1\n",
      "finished 2\n",
      "finished 3\n",
      "finished 4\n",
      "finished 6\n",
      "finished 8\n",
      "finished 10\n",
      "finished 12\n",
      "finished 14\n",
      "finished 16\n",
      "finished 24\n",
      "finished 32\n"
     ]
    }
   ],
   "source": [
    "info = []\n",
    "info_ctrl = []\n",
    "\n",
    "pca = sklearn.decomposition.PCA(n_components=max(DIMS))\n",
    "x = pca.fit_transform(psths)\n",
    "\n",
    "for dim in DIMS:\n",
    "    # This is taking the first *dim* principal components. Can replace with MDS here\n",
    "    x_arr = x[:, :dim]\n",
    "    \n",
    "    # Create a second array that shuffles all labels in order to view bias\n",
    "    x_shuffle = np.copy(x_arr)\n",
    "    np.random.shuffle(x_shuffle)\n",
    "    \n",
    "    selectors, stims = template_selectors(table)\n",
    "    \n",
    "    # Compute confusion matrix with the real data\n",
    "    distances = compute_euclidian_distances_to_all_templates(x_arr, selectors)\n",
    "    predicted = compute_nearest_template_with_ties(distances, stims)\n",
    "    conf = ConfusionMatrix(table[\"stim\"], predicted)\n",
    "    \n",
    "    # Compute confusion matrix on data with shuffled labels, *x_shuffle*\n",
    "    distances_ctrl = compute_euclidian_distances_to_all_templates(x_shuffle, selectors)\n",
    "    predicted_ctrl = compute_nearest_template_with_ties(distances_ctrl, stims)\n",
    "    conf_ctrl = ConfusionMatrix(table[\"stim\"], predicted_ctrl)\n",
    "\n",
    "    info.append(conf.information())\n",
    "    info_ctrl.append(conf_ctrl.information())\n",
    "    print \"finished\", dim\n"
   ]
  },
  {
   "cell_type": "code",
   "execution_count": 19,
   "metadata": {
    "collapsed": false
   },
   "outputs": [
    {
     "data": {
      "image/png": "[encoded data removed]",
      "text/plain": [
       "<matplotlib.figure.Figure at 0x10f509fd0>"
      ]
     },
     "metadata": {},
     "output_type": "display_data"
    }
   ],
   "source": [
    "plt.figure(figsize=(5, 2))\n",
    "plt.plot(DIMS, info)\n",
    "plt.plot(DIMS, info_ctrl)\n",
    "plt.ylim(0, np.log2(len(np.unique(table[\"stim\"]))))\n",
    "plt.xlim(0, max(DIMS))\n",
    "plt.show()"
   ]
  },
  {
   "cell_type": "markdown",
   "metadata": {},
   "source": [
    "### Next, using mixture of gaussians model and monte-carlo estimation\n",
    "\n",
    "Since there are only about 10 trials per stimulus, we can't really fit high-dimensional gaussians to estimate $P(R|S)$. So I'll only go up to dimension 5.\n",
    "\n",
    "Again, we will compute information for both the true data and the data with shuffled labels."
   ]
  },
  {
   "cell_type": "code",
   "execution_count": 35,
   "metadata": {
    "collapsed": false
   },
   "outputs": [
    {
     "data": {
      "image/png": "[encoded data removed]",
      "text/plain": [
       "<matplotlib.figure.Figure at 0x10fcb6c10>"
      ]
     },
     "metadata": {},
     "output_type": "display_data"
    }
   ],
   "source": [
    "DIMS_2 = [1,2,3,4,5,6]\n",
    "\n",
    "info_est = []\n",
    "info_est_err = []\n",
    "info_est_ctrl = []\n",
    "info_est_ctrl_err = []\n",
    "for dim in DIMS_2:\n",
    "    # Take top *dim* PCs\n",
    "    x_arr = x[:, :dim]\n",
    "    \n",
    "    # Create a second array that shuffles all labels in order to view bias\n",
    "    x_shuffle = np.copy(x_arr)\n",
    "    np.random.shuffle(x_shuffle)\n",
    "\n",
    "    # Fit gaussians to responses grouped by stimulus\n",
    "    dists, p = fit_gaussians(table, x_arr, key=\"stim\")\n",
    "    mutual_info, err = monte_carlo_mutual_information(dists, n=200)\n",
    "    info_est.append(mutual_info)\n",
    "    info_est_err.append(err)\n",
    "    \n",
    "    # Control case\n",
    "    dists, p = fit_gaussians(table, x_shuffle, key=\"stim\")\n",
    "    mutual_info, err = monte_carlo_mutual_information(dists, n=200)\n",
    "    info_est_ctrl.append(mutual_info)\n",
    "    info_est_ctrl_err.append(err)\n",
    "\n",
    "plt.figure(figsize=(5, 2))\n",
    "plt.plot(DIMS, info, alpha=0.5, label=\"PCA\")\n",
    "plt.plot(DIMS, info_ctrl, alpha=0.5, label=\"PCA Control\")\n",
    "plt.errorbar(DIMS_2, info_est, yerr=info_est_err, color=\"k\", label=\"Monte Carlo\")\n",
    "plt.errorbar(DIMS_2, info_est_ctrl, yerr=info_est_ctrl_err, alpha=0.5, color=\"k\", label=\"MC Control\")\n",
    "plt.ylim(0, np.log2(len(np.unique(table[\"stim\"]))))\n",
    "plt.xlim(0, max(DIMS))\n",
    "plt.show()"
   ]
  },
  {
   "cell_type": "markdown",
   "metadata": {},
   "source": [
    "### Finally using the above with stimulus category instead of stimulus\n",
    "\n",
    "Since there are only about 10 trials per stimulus, we can't really fit high-dimensional gaussians to estimate $P(R|S)$. So I'll only go up to dimension 5. By grouping by higher-level semantic category instead (i.e. aggressive, distance, etc), we have more datapoints per category and can presumably go up to higher numbers of dimensions.\n",
    "\n",
    "Again, we will compute information for both the true data and the data with shuffled labels.\n",
    "\n",
    "You'll find that the sampling bias seems to be pretty significant still."
   ]
  },
  {
   "cell_type": "code",
   "execution_count": 36,
   "metadata": {
    "collapsed": false
   },
   "outputs": [
    {
     "name": "stdout",
     "output_type": "stream",
     "text": [
      "finished 1\n",
      "finished 2\n",
      "finished 3\n",
      "finished 4\n",
      "finished 6\n",
      "finished 8\n",
      "finished 10\n",
      "finished 12\n",
      "finished 14\n",
      "finished 16\n",
      "finished 24\n",
      "finished 32\n"
     ]
    }
   ],
   "source": [
    "info = []\n",
    "info_ctrl = []\n",
    "\n",
    "pca = sklearn.decomposition.PCA(n_components=max(DIMS))\n",
    "x = pca.fit_transform(psths)\n",
    "\n",
    "for dim in DIMS:\n",
    "    x_arr = x[:, :dim]\n",
    "    # Create a second array that shuffles all labels in order to view bias\n",
    "    x_shuffle = np.copy(x_arr)\n",
    "    np.random.shuffle(x_shuffle)\n",
    "    \n",
    "    selectors, stims = template_selectors(table, key=\"stim_type\")\n",
    "    \n",
    "    distances = compute_euclidian_distances_to_all_templates(x_arr, selectors)\n",
    "    predicted = compute_nearest_template_with_ties(distances, stims)\n",
    "    conf = ConfusionMatrix(table[\"stim_type\"], predicted)\n",
    "    \n",
    "    distances_ctrl = compute_euclidian_distances_to_all_templates(x_shuffle, selectors)\n",
    "    predicted_ctrl = compute_nearest_template_with_ties(distances_ctrl, stims)\n",
    "    conf_ctrl = ConfusionMatrix(table[\"stim_type\"], predicted_ctrl)\n",
    "\n",
    "    info.append(conf.information())\n",
    "    info_ctrl.append(conf_ctrl.information())\n",
    "    print \"finished\", dim\n"
   ]
  },
  {
   "cell_type": "code",
   "execution_count": 40,
   "metadata": {
    "collapsed": false
   },
   "outputs": [
    {
     "data": {
      "image/png": "[encoded data removed]",
      "text/plain": [
       "<matplotlib.figure.Figure at 0x10fa678d0>"
      ]
     },
     "metadata": {},
     "output_type": "display_data"
    }
   ],
   "source": [
    "DIMS_2 = [1,2,3,4,5,6,8,10,12,14,16,18,20,24,28,32]\n",
    "\n",
    "info_est = []\n",
    "info_est_err = []\n",
    "info_est_ctrl = []\n",
    "info_est_ctrl_err = []\n",
    "for dim in DIMS_2:\n",
    "    x_arr = x[:, :dim]\n",
    "    # Create a second array that shuffles all labels in order to view bias\n",
    "    x_shuffle = np.copy(x_arr)\n",
    "    np.random.shuffle(x_shuffle)\n",
    "\n",
    "    dists, p = fit_gaussians(table, x_arr, key=\"stim_type\")\n",
    "\n",
    "    mutual_info, err = monte_carlo_mutual_information(dists, n=200)\n",
    "    info_est.append(mutual_info)\n",
    "    info_est_err.append(err)\n",
    "    \n",
    "    dists, p = fit_gaussians(table, x_shuffle, key=\"stim_type\")\n",
    "    mutual_info, err = monte_carlo_mutual_information(dists, n=200)\n",
    "    info_est_ctrl.append(mutual_info)\n",
    "    info_est_ctrl_err.append(err)\n",
    "\n",
    "\n",
    "plt.figure(figsize=(5, 2))\n",
    "plt.plot(DIMS, info, alpha=0.5)\n",
    "plt.plot(DIMS, info_ctrl, alpha=0.5)\n",
    "plt.errorbar(DIMS_2, info_est, yerr=info_est_err, color=\"k\")\n",
    "plt.errorbar(DIMS_2, info_est_ctrl, yerr=info_est_ctrl_err, alpha=0.5, color=\"k\")\n",
    "plt.ylim(0, np.log2(len(np.unique(table[\"stim_type\"]))))\n",
    "plt.xlim(0, max(DIMS))\n",
    "plt.show()"
   ]
  },
  {
   "cell_type": "code",
   "execution_count": null,
   "metadata": {
    "collapsed": true
   },
   "outputs": [],
   "source": []
  }
 ],
 "metadata": {
  "kernelspec": {
   "display_name": "Python 2",
   "language": "python",
   "name": "python2"
  },
  "language_info": {
   "codemirror_mode": {
    "name": "ipython",
    "version": 2
   },
   "file_extension": ".py",
   "mimetype": "text/x-python",
   "name": "python",
   "nbconvert_exporter": "python",
   "pygments_lexer": "ipython2",
   "version": "2.7.12"
  }
 },
 "nbformat": 4,
 "nbformat_minor": 2
}
