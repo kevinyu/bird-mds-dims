{
 "cells": [
  {
   "cell_type": "markdown",
   "metadata": {},
   "source": [
    "# Calculating mutual information by modeling P(R|S) as gaussian\n",
    "\n",
    "The mutual information of the response R and stimulus S can be expressed by\n",
    "\n",
    "$I(R;S) = \\sum\\limits_{s\\in S} \\int\\limits_{R} dr \\, p(r, s) \\log_2{\\frac{p(r, s)}{p(r)p(s)}}$\n",
    "\n",
    "If we model $P(R|S)$ as gaussian by fitting the mean and covariance to points with the same stimulus label, then $P(R)$ is a mixture of gaussians model expressed as $P(R) = P(R|S)P(S)$\n",
    "\n",
    "We can compute a monte carlo estimate of $I(R;S)$ by sampling from the distribution $P(R,S)$. A sampled point $(r_i, s_i)$ can be selected by first picking an $s_i$ from $S$ (weighted by frequency of presentation of $s_i$), and then sampling an $r_i$ from the multivariate gaussian $p(r|s_i)$.\n",
    "\n",
    "The monte carlo estimate of $I(R;S)$ over the $N$ sampled points $(r_i, s_i)$ is \n",
    "\n",
    "$\\tilde{I}(R;S) = \\frac{1}{N} \\sum\\limits_{i=1}^N \\log_2{\\frac{p(r_i | s_i)}{p(r_i)}}$\n",
    "\n",
    "with\n",
    "\n",
    "$p(r_i | s_i) = \\mathrm{NormPDF}(\\mu_{s_i}, \\Sigma_{s_i}, r_i)$\n",
    "\n",
    "$p(r_i) = \\sum\\limits_{s_i \\in S} p(r_i | s_i)  p(s_i) $"
   ]
  },
  {
   "cell_type": "code",
   "execution_count": 2,
   "metadata": {
    "collapsed": false
   },
   "outputs": [
    {
     "name": "stderr",
     "output_type": "stream",
     "text": [
      "/Users/kevinyu/Projects/mds-bird/env27/lib/python2.7/site-packages/matplotlib/font_manager.py:273: UserWarning: Matplotlib is building the font cache using fc-list. This may take a moment.\n",
      "  warnings.warn('Matplotlib is building the font cache using fc-list. This may take a moment.')\n"
     ]
    }
   ],
   "source": [
    "import os\n",
    "\n",
    "import numpy as np\n",
    "import matplotlib.pyplot as plt\n",
    "import sklearn.decomposition\n",
    "\n",
    "import config\n",
    "from load import DataExplorer\n",
    "from mutual_information import monte_carlo_mutual_information\n",
    "from process_spikes import bin_spikes, conv, exponential_convolver\n",
    "from fit_gaussians import fit_gaussians"
   ]
  },
  {
   "cell_type": "code",
   "execution_count": 3,
   "metadata": {
    "collapsed": true
   },
   "outputs": [],
   "source": [
    "BIRD = \"GreBlu9508M\"\n",
    "SITE = 2\n",
    "UNIT = (21, 1)"
   ]
  },
  {
   "cell_type": "code",
   "execution_count": 4,
   "metadata": {
    "collapsed": false
   },
   "outputs": [],
   "source": [
    "dat = DataExplorer(\n",
    "    config.DATADIR,\n",
    "    BIRD,\n",
    "    SITE,\n",
    "    exclude_noise=True,\n",
    "    exclude_song=True)"
   ]
  },
  {
   "cell_type": "code",
   "execution_count": 5,
   "metadata": {
    "collapsed": false
   },
   "outputs": [],
   "source": [
    "table, spike_times = dat.load_table(filter_unit=UNIT, load_spike_times=True)\n",
    "_, spikes = bin_spikes(spike_times, min_time=config.MIN_TIME, max_time=config.MAX_TIME)\n",
    "psths = conv(spikes, exponential_convolver, config.WIDTH)"
   ]
  },
  {
   "cell_type": "markdown",
   "metadata": {},
   "source": [
    "### By Stimulus Identity\n",
    "\n",
    "First, we can estimate the mutual information by dividing our responses up by stimulus identity."
   ]
  },
  {
   "cell_type": "code",
   "execution_count": 6,
   "metadata": {
    "collapsed": false
   },
   "outputs": [
    {
     "name": "stdout",
     "output_type": "stream",
     "text": [
      "1.74 (0.11) / 6.54 bits\n"
     ]
    }
   ],
   "source": [
    "pca = sklearn.decomposition.PCA(n_components=2)\n",
    "x = pca.fit_transform(psths)\n",
    "\n",
    "dists, p = fit_gaussians(table, x, key=\"stim\")\n",
    "    \n",
    "mutual_info, err = monte_carlo_mutual_information(dists, n=200)\n",
    "print \"{:.2f} ({:.2f}) / {:.2f} bits\".format(\n",
    "    mutual_info,\n",
    "    err,\n",
    "    np.log2(len(np.unique(table[\"stim\"]))))"
   ]
  },
  {
   "cell_type": "markdown",
   "metadata": {},
   "source": [
    "### By Stimulus Category\n",
    "\n",
    "Next, we can estimate the mutual information when dividing our responses up by stimulus category (i.e. aggressive, distance, etc)  "
   ]
  },
  {
   "cell_type": "code",
   "execution_count": 7,
   "metadata": {
    "collapsed": false
   },
   "outputs": [
    {
     "name": "stdout",
     "output_type": "stream",
     "text": [
      "2.64 (0.06) / 3.00 bits\n"
     ]
    }
   ],
   "source": [
    "pca = sklearn.decomposition.PCA(n_components=10)\n",
    "x = pca.fit_transform(psths)\n",
    "\n",
    "dists, p = fit_gaussians(table, x, key=\"stim_type\")\n",
    "    \n",
    "mutual_info, err = monte_carlo_mutual_information(dists, n=200)\n",
    "print \"{:.2f} ({:.2f}) / {:.2f} bits\".format(\n",
    "    mutual_info,\n",
    "    err,\n",
    "    np.log2(len(np.unique(table[\"stim_type\"]))))"
   ]
  },
  {
   "cell_type": "code",
   "execution_count": null,
   "metadata": {
    "collapsed": false
   },
   "outputs": [],
   "source": []
  },
  {
   "cell_type": "code",
   "execution_count": null,
   "metadata": {
    "collapsed": true
   },
   "outputs": [],
   "source": []
  },
  {
   "cell_type": "code",
   "execution_count": null,
   "metadata": {
    "collapsed": true
   },
   "outputs": [],
   "source": []
  }
 ],
 "metadata": {
  "kernelspec": {
   "display_name": "Python 2",
   "language": "python",
   "name": "python2"
  },
  "language_info": {
   "codemirror_mode": {
    "name": "ipython",
    "version": 2
   },
   "file_extension": ".py",
   "mimetype": "text/x-python",
   "name": "python",
   "nbconvert_exporter": "python",
   "pygments_lexer": "ipython2",
   "version": "2.7.12"
  }
 },
 "nbformat": 4,
 "nbformat_minor": 2
}
